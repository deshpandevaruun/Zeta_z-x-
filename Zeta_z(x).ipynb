{
 "cells": [
  {
   "cell_type": "code",
   "execution_count": 1,
   "metadata": {},
   "outputs": [],
   "source": [
    "import gurobipy as gp"
   ]
  },
  {
   "cell_type": "code",
   "execution_count": 2,
   "metadata": {},
   "outputs": [
    {
     "name": "stdout",
     "output_type": "stream",
     "text": [
      "Using license file C:\\Users\\Varun\\gurobi.lic\n",
      "Academic license - for non-commercial use only - expires 2021-03-22\n",
      "Gurobi Optimizer version 9.1.0 build v9.1.0rc0 (win64)\n",
      "Thread count: 2 physical cores, 2 logical processors, using up to 2 threads\n",
      "Optimize a model with 0 rows, 2 columns and 0 nonzeros\n",
      "Model fingerprint: 0x941a037a\n",
      "Model has 1 general constraint\n",
      "Variable types: 2 continuous, 0 integer (0 binary)\n",
      "Coefficient statistics:\n",
      "  Matrix range     [0e+00, 0e+00]\n",
      "  Objective range  [1e+00, 1e+00]\n",
      "  Bounds range     [1e+00, 1e+00]\n",
      "  RHS range        [0e+00, 0e+00]\n",
      "Found heuristic solution: objective 0.0000000\n",
      "Presolve added 1 rows and 99 columns\n",
      "Presolve time: 0.10s\n",
      "Presolved: 1 rows, 101 columns, 101 nonzeros\n",
      "Presolved model has 1 SOS constraint(s)\n",
      "Found heuristic solution: objective -0.3678733\n",
      "Variable types: 101 continuous, 0 integer (0 binary)\n",
      "\n",
      "Root relaxation: cutoff, 0 iterations, 0.00 seconds\n",
      "\n",
      "Explored 0 nodes (0 simplex iterations) in 0.29 seconds\n",
      "Thread count was 2 (of 2 available processors)\n",
      "\n",
      "Solution count 2: -0.367873 0 \n",
      "\n",
      "Optimal solution found (tolerance 1.00e-04)\n",
      "Best objective -3.678733411372e-01, best bound -3.678733411372e-01, gap 0.0000%\n"
     ]
    }
   ],
   "source": [
    "import math\n",
    "\n",
    "m = gp.Model()\n",
    "x = m.addVar(name=\"x\", ub=1)\n",
    "y = m.addVar(name=\"y\", lb=-gp.GRB.INFINITY)\n",
    "\n",
    "# Create x-points and y-points for approximation of y = x*log(x)\n",
    "xs = [0.01*i for i in range(101)]\n",
    "ys = [p*math.log(p) if p != 0 else 0 for p in xs]\n",
    "\n",
    "# Add piecewise-linear constraint\n",
    "m.addGenConstrPWL(x, y, xs, ys, \"pwl\")\n",
    "\n",
    "# Minimize approximation of y = x*log(x)\n",
    "m.setObjective(y, gp.GRB.MINIMIZE)\n",
    "m.optimize()"
   ]
  },
  {
   "cell_type": "code",
   "execution_count": 34,
   "metadata": {},
   "outputs": [
    {
     "name": "stdout",
     "output_type": "stream",
     "text": [
      "Enter x6\n",
      "Gurobi Optimizer version 9.1.0 build v9.1.0rc0 (win64)\n",
      "Thread count: 2 physical cores, 2 logical processors, using up to 2 threads\n",
      "Optimize a model with 2 rows, 1000 columns and 2000 nonzeros\n",
      "Model fingerprint: 0x6a154c7d\n",
      "Coefficient statistics:\n",
      "  Matrix range     [1e-02, 1e+01]\n",
      "  Objective range  [1e-02, 2e+01]\n",
      "  Bounds range     [0e+00, 0e+00]\n",
      "  RHS range        [1e+00, 6e+00]\n",
      "Presolve time: 0.02s\n",
      "Presolved: 2 rows, 1000 columns, 2000 nonzeros\n",
      "\n",
      "Iteration    Objective       Primal Inf.    Dual Inf.      Time\n",
      "       0   -2.4993675e+31   1.051875e+32   2.499367e+01      0s\n",
      "     564    1.0750557e+01   0.000000e+00   0.000000e+00      0s\n",
      "\n",
      "Solved in 564 iterations and 0.08 seconds\n",
      "Optimal objective  1.075055682e+01\n"
     ]
    }
   ],
   "source": [
    "# y = xlog(x)\n",
    "x = float(input(\"Enter x\"))\n",
    "model = gp.Model()\n",
    "xs = [0.01*i for i in range(1,1001)]\n",
    "ys = [p*math.log(p) if p != 0 else 0 for p in xs]\n",
    "mu = model.addVars(xs, name = 'mu', vtype = gp.GRB.CONTINUOUS, lb = 0)\n",
    "model.addConstr(gp.quicksum(mu[r] for r in xs) == 1)\n",
    "model.addConstr(gp.quicksum(mu[r]*r for r in xs)==x)\n",
    "model.setObjective(gp.quicksum(mu[r]*(r*math.log(r) ) for r in xs), gp.GRB.MINIMIZE)\n",
    "model.optimize()"
   ]
  },
  {
   "cell_type": "code",
   "execution_count": 36,
   "metadata": {},
   "outputs": [
    {
     "name": "stdout",
     "output_type": "stream",
     "text": [
      "Enter x1.5\n",
      "Gurobi Optimizer version 9.1.0 build v9.1.0rc0 (win64)\n",
      "Thread count: 2 physical cores, 2 logical processors, using up to 2 threads\n",
      "Optimize a model with 2 rows, 1001 columns and 2001 nonzeros\n",
      "Model fingerprint: 0xe4970235\n",
      "Coefficient statistics:\n",
      "  Matrix range     [1e-02, 1e+01]\n",
      "  Objective range  [1e-04, 1e+02]\n",
      "  Bounds range     [0e+00, 0e+00]\n",
      "  RHS range        [1e+00, 2e+00]\n",
      "Presolve removed 0 rows and 1 columns\n",
      "Presolve time: 0.08s\n",
      "Presolved: 2 rows, 1000 columns, 2000 nonzeros\n",
      "\n",
      "Iteration    Objective       Primal Inf.    Dual Inf.      Time\n",
      "       0    0.0000000e+00   1.875000e-01   0.000000e+00      0s\n",
      "      16    2.2500000e+00   0.000000e+00   0.000000e+00      0s\n",
      "\n",
      "Solved in 16 iterations and 0.17 seconds\n",
      "Optimal objective  2.250000000e+00\n"
     ]
    }
   ],
   "source": [
    "# y =x^2\n",
    "x = float(input(\"Enter x\"))\n",
    "model = gp.Model()\n",
    "xs = [0.01*i for i in range(1001)]\n",
    "ys = [p*p for p in xs]\n",
    "mu = model.addVars(xs, name = 'mu', vtype = gp.GRB.CONTINUOUS, lb = 0)\n",
    "model.addConstr(gp.quicksum(mu[r] for r in xs) == 1)\n",
    "model.addConstr(gp.quicksum(mu[r]*r for r in xs)==x)\n",
    "model.setObjective(gp.quicksum(mu[r]*(r*r) for r in xs), gp.GRB.MINIMIZE)\n",
    "model.optimize()"
   ]
  },
  {
   "cell_type": "code",
   "execution_count": 43,
   "metadata": {},
   "outputs": [
    {
     "name": "stdout",
     "output_type": "stream",
     "text": [
      "Enter x0\n",
      "Gurobi Optimizer version 9.1.0 build v9.1.0rc0 (win64)\n",
      "Thread count: 2 physical cores, 2 logical processors, using up to 2 threads\n",
      "Optimize a model with 2 rows, 1001 columns and 2001 nonzeros\n",
      "Model fingerprint: 0x352b1734\n",
      "Coefficient statistics:\n",
      "  Matrix range     [1e-02, 1e+01]\n",
      "  Objective range  [1e+00, 2e+04]\n",
      "  Bounds range     [0e+00, 0e+00]\n",
      "  RHS range        [1e+00, 1e+00]\n",
      "Presolve removed 2 rows and 1001 columns\n",
      "Presolve time: 0.03s\n",
      "Presolve: All rows and columns removed\n",
      "Iteration    Objective       Primal Inf.    Dual Inf.      Time\n",
      "       0    1.0000000e+00   0.000000e+00   0.000000e+00      0s\n",
      "\n",
      "Solved in 0 iterations and 0.10 seconds\n",
      "Optimal objective  1.000000000e+00\n"
     ]
    }
   ],
   "source": [
    "# y = exp(x)\n",
    "x = float(input(\"Enter x\"))\n",
    "model = gp.Model()\n",
    "xs = [0.01*i for i in range(1001)]\n",
    "ys = [math.exp(p) for p in xs]\n",
    "mu = model.addVars(xs, name = 'mu', vtype = gp.GRB.CONTINUOUS, lb = 0)\n",
    "model.addConstr(gp.quicksum(mu[r] for r in xs) == 1)\n",
    "model.addConstr(gp.quicksum(mu[r]*r for r in xs)==x)\n",
    "model.setObjective(gp.quicksum(mu[r]*math.exp(r) for r in xs), gp.GRB.MINIMIZE)\n",
    "model.optimize()"
   ]
  },
  {
   "cell_type": "code",
   "execution_count": null,
   "metadata": {},
   "outputs": [],
   "source": []
  }
 ],
 "metadata": {
  "kernelspec": {
   "display_name": "Python 3",
   "language": "python",
   "name": "python3"
  },
  "language_info": {
   "codemirror_mode": {
    "name": "ipython",
    "version": 3
   },
   "file_extension": ".py",
   "mimetype": "text/x-python",
   "name": "python",
   "nbconvert_exporter": "python",
   "pygments_lexer": "ipython3",
   "version": "3.8.3"
  }
 },
 "nbformat": 4,
 "nbformat_minor": 4
}
